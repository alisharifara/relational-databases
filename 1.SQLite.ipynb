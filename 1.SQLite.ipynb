{
 "cells": [
  {
   "cell_type": "markdown",
   "metadata": {},
   "source": [
    "### SQLite Database"
   ]
  },
  {
   "cell_type": "code",
   "execution_count": 33,
   "metadata": {},
   "outputs": [],
   "source": [
    "import sqlite3"
   ]
  },
  {
   "cell_type": "markdown",
   "metadata": {},
   "source": [
    "### Connect to database"
   ]
  },
  {
   "cell_type": "code",
   "execution_count": 32,
   "metadata": {},
   "outputs": [],
   "source": [
    "connection = sqlite3.connect(\"GradesDB.db\")\n",
    "connection.close()"
   ]
  },
  {
   "cell_type": "markdown",
   "metadata": {},
   "source": [
    "### Create table"
   ]
  },
  {
   "cell_type": "code",
   "execution_count": 28,
   "metadata": {},
   "outputs": [],
   "source": [
    "connection = sqlite3.connect(\"GradesDB.db\")\n",
    "cursor = connection.cursor()\n",
    "\n",
    "create_table = \"\"\"\n",
    "                CREATE TABLE STUDENTS ( \n",
    "                student_id INTEGER PRIMARY KEY, \n",
    "                name VARCHAR(20), \n",
    "                gender CHAR(1), \n",
    "                AI_GRADE INTEGER,\n",
    "                MATH_GRADE INTEGER,\n",
    "                COMPUTER_VISION_GRADE INTEGER\n",
    "              );\"\"\"\n",
    "\n",
    "cursor.execute(create_table)\n",
    "connection.commit()\n",
    "connection.close()"
   ]
  },
  {
   "cell_type": "markdown",
   "metadata": {},
   "source": [
    "### Sample data"
   ]
  },
  {
   "cell_type": "code",
   "execution_count": null,
   "metadata": {},
   "outputs": [],
   "source": [
    "students = [(\"Ali\",\"M\", 100, 100, 100),\n",
    "            (\"Roz\",\"F\", 50, 69, 93),\n",
    "            (\"Mark\",\"M\", 65, 55, 92),\n",
    "            (\"Jeniffer\",\"F\", 80, 26, 19),\n",
    "            (\"Alex\", \"F\", 100, 90, 90)]"
   ]
  },
  {
   "cell_type": "markdown",
   "metadata": {},
   "source": [
    "### Insert data INTO table"
   ]
  },
  {
   "cell_type": "code",
   "execution_count": 30,
   "metadata": {},
   "outputs": [],
   "source": [
    "connection = sqlite3.connect(\"GradesDB.db\")\n",
    "cursor = connection.cursor()\n",
    "\n",
    "i=1\n",
    "for student in students:\n",
    "\n",
    "    insert_statement = \"\"\"INSERT INTO STUDENTS \n",
    "                      (student_id, name, gender, AI_GRADE, MATH_GRADE, COMPUTER_VISION_GRADE)\n",
    "                       VALUES \n",
    "                      ({0}, \"{1}\", \"{2}\", {3}, {4}, {5});\"\"\".format(i, student[0], student[1], \n",
    "                                                              student[2],student[3], student[4])\n",
    "\n",
    "    cursor.execute(insert_statement)\n",
    "    i+=1\n",
    "\n",
    "connection.commit()\n",
    "connection.close()"
   ]
  },
  {
   "cell_type": "markdown",
   "metadata": {},
   "source": [
    "### Extract data"
   ]
  },
  {
   "cell_type": "code",
   "execution_count": 31,
   "metadata": {},
   "outputs": [
    {
     "name": "stdout",
     "output_type": "stream",
     "text": [
      "(1, 'Ali', 'M', 100, 100, 100)\n",
      "(2, 'Roz', 'F', 50, 69, 93)\n",
      "(3, 'Mark', 'M', 65, 55, 92)\n",
      "(4, 'Jeniffer', 'F', 80, 26, 19)\n",
      "(5, 'Alex', 'F', 100, 90, 90)\n"
     ]
    }
   ],
   "source": [
    "connection = sqlite3.connect(\"GradesDB.db\")\n",
    "cursor = connection.cursor()\n",
    "\n",
    "# or select *\n",
    "query = \"SELECT student_id, name, gender, AI_GRADE, MATH_GRADE, COMPUTER_VISION_GRADE FROM STUDENTS\"\n",
    "\n",
    "cursor.execute(query) \n",
    "\n",
    "result = cursor.fetchall() \n",
    "\n",
    "for row in result:\n",
    "    print(row)\n",
    "\n",
    "    connection.close()"
   ]
  },
  {
   "cell_type": "code",
   "execution_count": null,
   "metadata": {
    "collapsed": true
   },
   "outputs": [],
   "source": []
  }
 ],
 "metadata": {
  "anaconda-cloud": {},
  "hide_input": false,
  "kernelspec": {
   "display_name": "Python 3",
   "language": "python",
   "name": "python3"
  },
  "language_info": {
   "codemirror_mode": {
    "name": "ipython",
    "version": 3
   },
   "file_extension": ".py",
   "mimetype": "text/x-python",
   "name": "python",
   "nbconvert_exporter": "python",
   "pygments_lexer": "ipython3",
   "version": "3.6.8"
  },
  "toc": {
   "nav_menu": {
    "height": "390px",
    "width": "252px"
   },
   "navigate_menu": true,
   "number_sections": false,
   "sideBar": true,
   "threshold": 4,
   "toc_cell": false,
   "toc_section_display": "block",
   "toc_window_display": false
  }
 },
 "nbformat": 4,
 "nbformat_minor": 1
}
