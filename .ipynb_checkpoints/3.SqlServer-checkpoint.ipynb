{
 "cells": [
  {
   "cell_type": "markdown",
   "metadata": {},
   "source": [
    "### Microsoft SQL Server database"
   ]
  },
  {
   "cell_type": "markdown",
   "metadata": {},
   "source": [
    "#### install package"
   ]
  },
  {
   "cell_type": "code",
   "execution_count": 12,
   "metadata": {},
   "outputs": [
    {
     "name": "stdout",
     "output_type": "stream",
     "text": [
      "Fetching package metadata .................\n",
      "Solving package specifications: ..........\n",
      "\n",
      "Package plan for installation in environment C:\\Program Files\\Anaconda2:\n",
      "\n",
      "The following NEW packages will be INSTALLED:\n",
      "\n",
      "    pymssql: 2.1.3-py27_0\n",
      "\n"
     ]
    }
   ],
   "source": [
    "!conda install -y -q pymssql"
   ]
  },
  {
   "cell_type": "code",
   "execution_count": 13,
   "metadata": {
    "collapsed": true
   },
   "outputs": [],
   "source": [
    "import pymssql"
   ]
  },
  {
   "cell_type": "markdown",
   "metadata": {},
   "source": [
    "### Connecting to database"
   ]
  },
  {
   "cell_type": "code",
   "execution_count": 14,
   "metadata": {},
   "outputs": [],
   "source": [
    "cnx= {\n",
    "      'host': 'localhost',\n",
    "      'username': 'test',\n",
    "      'password': 'test',\n",
    "      'db': 'tempDB'} \n",
    "\n",
    "conn = pymssql.connect(cnx['host'], cnx['username'], cnx['password'], cnx['db'])\n",
    "conn.close()"
   ]
  },
  {
   "cell_type": "markdown",
   "metadata": {},
   "source": [
    "### Creating table"
   ]
  },
  {
   "cell_type": "code",
   "execution_count": 15,
   "metadata": {
    "collapsed": true
   },
   "outputs": [],
   "source": [
    "connection = pymssql.connect(cnx['host'], cnx['username'], cnx['password'], cnx['db'])\n",
    "cursor = connection.cursor()\n",
    "\n",
    "create_table = \"\"\"\n",
    "                CREATE TABLE STUDENTS ( \n",
    "                student_id INTEGER PRIMARY KEY, \n",
    "                name VARCHAR(20), \n",
    "                gender CHAR(1), \n",
    "                AI_GRADE INTEGER,\n",
    "                MATH_GRADE INTEGER,\n",
    "                COMPUTER_VISION_GRADE INTEGER\n",
    "              );\"\"\"\n",
    "\n",
    "cursor.execute(create_table)\n",
    "connection.commit()\n",
    "connection.close()"
   ]
  },
  {
   "cell_type": "markdown",
   "metadata": {},
   "source": [
    "### Sample Data"
   ]
  },
  {
   "cell_type": "code",
   "execution_count": 1,
   "metadata": {},
   "outputs": [],
   "source": [
    "students = [(\"Ali\",\"M\", 100, 100, 100),\n",
    "            (\"Roze\",\"F\", 50, 69, 93),\n",
    "            (\"Mark\",\"M\", 65, 55, 92),\n",
    "            (\"Jeniffer\",\"F\", 80, 26, 19),\n",
    "            (\"Alex\", \"F\", 100, 90, 90)]"
   ]
  },
  {
   "cell_type": "markdown",
   "metadata": {},
   "source": [
    "### Inserting data"
   ]
  },
  {
   "cell_type": "code",
   "execution_count": 16,
   "metadata": {},
   "outputs": [],
   "source": [
    "connection = pymssql.connect(cnx['host'],cnx['username'],cnx['password'],cnx['db'] )\n",
    "cursor = connection.cursor()\n",
    "\n",
    "i = 1\n",
    "for student in classroom_data:\n",
    "\n",
    "    insert_statement = \"\"\"INSERT INTO STUDENTS \n",
    "                      (student_id, name, gender, AI_GRADE, MATH_GRADE, COMPUTER_VISION_GRADE)\n",
    "                       VALUES \n",
    "                      ({0}, \"{1}\", \"{2}\", {3}, {4}, {5});\"\"\".format(i, student[0], student[1], \n",
    "                                                              student[2],student[3], student[4])\n",
    "    cursor.execute(insert_statement)\n",
    "    i +=1\n",
    "\n",
    "connection.commit()\n",
    "connection.close()"
   ]
  },
  {
   "cell_type": "markdown",
   "metadata": {},
   "source": [
    "### Extracting data"
   ]
  },
  {
   "cell_type": "code",
   "execution_count": null,
   "metadata": {},
   "outputs": [],
   "source": [
    "connection = pymssql.connect(cnx['host'],cnx['username'],cnx['password'],cnx['db'])\n",
    "cursor = connection.cursor()\n",
    "\n",
    "query = \"SELECT * FROM students\"\n",
    "cursor.execute(query) \n",
    "\n",
    "result = cursor.fetchall() \n",
    "\n",
    "for row in result:\n",
    "    print(row)\n",
    "connection.close()"
   ]
  }
 ],
 "metadata": {
  "anaconda-cloud": {},
  "hide_input": false,
  "kernelspec": {
   "display_name": "Python 3",
   "language": "python",
   "name": "python3"
  },
  "language_info": {
   "codemirror_mode": {
    "name": "ipython",
    "version": 3
   },
   "file_extension": ".py",
   "mimetype": "text/x-python",
   "name": "python",
   "nbconvert_exporter": "python",
   "pygments_lexer": "ipython3",
   "version": "3.6.8"
  },
  "toc": {
   "nav_menu": {
    "height": "390px",
    "width": "252px"
   },
   "navigate_menu": true,
   "number_sections": false,
   "sideBar": true,
   "threshold": 4,
   "toc_cell": false,
   "toc_section_display": "block",
   "toc_window_display": false
  }
 },
 "nbformat": 4,
 "nbformat_minor": 1
}
